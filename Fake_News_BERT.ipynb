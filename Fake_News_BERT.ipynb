{
  "cells": [
    {
      "cell_type": "markdown",
      "metadata": {
        "id": "D1FYhWUKX-zM"
      },
      "source": [
        "# Loading and Displaying Data"
      ]
    },
    {
      "cell_type": "code",
      "execution_count": null,
      "metadata": {
        "colab": {
          "base_uri": "https://localhost:8080/"
        },
        "id": "EIKoEd4kGZvF",
        "outputId": "2ec49b2c-5cc1-43db-d866-d1cfbe737899"
      },
      "outputs": [
        {
          "name": "stdout",
          "output_type": "stream",
          "text": [
            "                                                   title  \\\n",
            "0      As U.S. budget fight looms, Republicans flip t...   \n",
            "1      U.S. military to accept transgender recruits o...   \n",
            "2      Senior U.S. Republican senator: 'Let Mr. Muell...   \n",
            "3      FBI Russia probe helped by Australian diplomat...   \n",
            "4      Trump wants Postal Service to charge 'much mor...   \n",
            "...                                                  ...   \n",
            "21412  'Fully committed' NATO backs new U.S. approach...   \n",
            "21413  LexisNexis withdrew two products from Chinese ...   \n",
            "21414  Minsk cultural hub becomes haven from authorities   \n",
            "21415  Vatican upbeat on possibility of Pope Francis ...   \n",
            "21416  Indonesia to buy $1.14 billion worth of Russia...   \n",
            "\n",
            "                                                    text       subject  \\\n",
            "0      WASHINGTON (Reuters) - The head of a conservat...  politicsNews   \n",
            "1      WASHINGTON (Reuters) - Transgender people will...  politicsNews   \n",
            "2      WASHINGTON (Reuters) - The special counsel inv...  politicsNews   \n",
            "3      WASHINGTON (Reuters) - Trump campaign adviser ...  politicsNews   \n",
            "4      SEATTLE/WASHINGTON (Reuters) - President Donal...  politicsNews   \n",
            "...                                                  ...           ...   \n",
            "21412  BRUSSELS (Reuters) - NATO allies on Tuesday we...     worldnews   \n",
            "21413  LONDON (Reuters) - LexisNexis, a provider of l...     worldnews   \n",
            "21414  MINSK (Reuters) - In the shadow of disused Sov...     worldnews   \n",
            "21415  MOSCOW (Reuters) - Vatican Secretary of State ...     worldnews   \n",
            "21416  JAKARTA (Reuters) - Indonesia will buy 11 Sukh...     worldnews   \n",
            "\n",
            "                     date  \n",
            "0      December 31, 2017   \n",
            "1      December 29, 2017   \n",
            "2      December 31, 2017   \n",
            "3      December 30, 2017   \n",
            "4      December 29, 2017   \n",
            "...                   ...  \n",
            "21412    August 22, 2017   \n",
            "21413    August 22, 2017   \n",
            "21414    August 22, 2017   \n",
            "21415    August 22, 2017   \n",
            "21416    August 22, 2017   \n",
            "\n",
            "[21417 rows x 4 columns]\n",
            "Length (rows): 21417\n"
          ]
        }
      ],
      "source": [
        "import pandas as pd\n",
        "\n",
        "# Load the datasets\n",
        "real_news = pd.read_csv('True.csv')\n",
        "\n",
        "# Printing head and tail\n",
        "print(real_news)\n",
        "\n",
        "# Print length => rows\n",
        "print(\"Length (rows):\", len(real_news))\n"
      ]
    },
    {
      "cell_type": "code",
      "execution_count": null,
      "metadata": {
        "colab": {
          "base_uri": "https://localhost:8080/"
        },
        "id": "TTBA9Fg9GiPq",
        "outputId": "e21f6e62-c4e6-415b-be19-562cd86e8db3"
      },
      "outputs": [
        {
          "name": "stdout",
          "output_type": "stream",
          "text": [
            "                                                   title  \\\n",
            "0       Donald Trump Sends Out Embarrassing New Year’...   \n",
            "1       Drunk Bragging Trump Staffer Started Russian ...   \n",
            "2       Sheriff David Clarke Becomes An Internet Joke...   \n",
            "3       Trump Is So Obsessed He Even Has Obama’s Name...   \n",
            "4       Pope Francis Just Called Out Donald Trump Dur...   \n",
            "...                                                  ...   \n",
            "23476  McPain: John McCain Furious That Iran Treated ...   \n",
            "23477  JUSTICE? Yahoo Settles E-mail Privacy Class-ac...   \n",
            "23478  Sunnistan: US and Allied ‘Safe Zone’ Plan to T...   \n",
            "23479  How to Blow $700 Million: Al Jazeera America F...   \n",
            "23480  10 U.S. Navy Sailors Held by Iranian Military ...   \n",
            "\n",
            "                                                    text      subject  \\\n",
            "0      Donald Trump just couldn t wish all Americans ...         News   \n",
            "1      House Intelligence Committee Chairman Devin Nu...         News   \n",
            "2      On Friday, it was revealed that former Milwauk...         News   \n",
            "3      On Christmas day, Donald Trump announced that ...         News   \n",
            "4      Pope Francis used his annual Christmas Day mes...         News   \n",
            "...                                                  ...          ...   \n",
            "23476  21st Century Wire says As 21WIRE reported earl...  Middle-east   \n",
            "23477  21st Century Wire says It s a familiar theme. ...  Middle-east   \n",
            "23478  Patrick Henningsen  21st Century WireRemember ...  Middle-east   \n",
            "23479  21st Century Wire says Al Jazeera America will...  Middle-east   \n",
            "23480  21st Century Wire says As 21WIRE predicted in ...  Middle-east   \n",
            "\n",
            "                    date  \n",
            "0      December 31, 2017  \n",
            "1      December 31, 2017  \n",
            "2      December 30, 2017  \n",
            "3      December 29, 2017  \n",
            "4      December 25, 2017  \n",
            "...                  ...  \n",
            "23476   January 16, 2016  \n",
            "23477   January 16, 2016  \n",
            "23478   January 15, 2016  \n",
            "23479   January 14, 2016  \n",
            "23480   January 12, 2016  \n",
            "\n",
            "[23481 rows x 4 columns]\n",
            "Length (rows): 23481\n"
          ]
        }
      ],
      "source": [
        "import pandas as pd\n",
        "\n",
        "# Load the datasets\n",
        "fake_news = pd.read_csv('Fake.csv')\n",
        "\n",
        "# Printing head and tail\n",
        "print(fake_news)\n",
        "\n",
        "# Print length => rows\n",
        "print(\"Length (rows):\", len(fake_news))\n"
      ]
    },
    {
      "cell_type": "markdown",
      "metadata": {
        "id": "DvEKkMnwYCoO"
      },
      "source": [
        "# Combining and Shuffling the data"
      ]
    },
    {
      "cell_type": "code",
      "execution_count": null,
      "metadata": {
        "colab": {
          "base_uri": "https://localhost:8080/",
          "height": 832
        },
        "id": "rADmIBu0Gj-g",
        "outputId": "d8ee8aff-75aa-4185-d136-81f943ca5273"
      },
      "outputs": [
        {
          "name": "stdout",
          "output_type": "stream",
          "text": [
            "Data loaded successfully and combined CSV generated!\n"
          ]
        },
        {
          "data": {
            "text/html": [
              "\n",
              "  <div id=\"df-47af9eeb-a364-45be-ae13-619baf251167\">\n",
              "    <div class=\"colab-df-container\">\n",
              "      <div>\n",
              "<style scoped>\n",
              "    .dataframe tbody tr th:only-of-type {\n",
              "        vertical-align: middle;\n",
              "    }\n",
              "\n",
              "    .dataframe tbody tr th {\n",
              "        vertical-align: top;\n",
              "    }\n",
              "\n",
              "    .dataframe thead th {\n",
              "        text-align: right;\n",
              "    }\n",
              "</style>\n",
              "<table border=\"1\" class=\"dataframe\">\n",
              "  <thead>\n",
              "    <tr style=\"text-align: right;\">\n",
              "      <th></th>\n",
              "      <th>title</th>\n",
              "      <th>text</th>\n",
              "      <th>subject</th>\n",
              "      <th>date</th>\n",
              "      <th>label</th>\n",
              "    </tr>\n",
              "  </thead>\n",
              "  <tbody>\n",
              "    <tr>\n",
              "      <th>2975</th>\n",
              "      <td>Lawmakers unveil bill to keep insurance expert...</td>\n",
              "      <td>WASHINGTON (Reuters) - The U.S. Senate Banking...</td>\n",
              "      <td>politicsNews</td>\n",
              "      <td>June 28, 2017</td>\n",
              "      <td>1</td>\n",
              "    </tr>\n",
              "    <tr>\n",
              "      <th>2883</th>\n",
              "      <td>GOP Lawmaker Deactivates Twitter Account Afte...</td>\n",
              "      <td>A Nebraska State Senator was busted previously...</td>\n",
              "      <td>News</td>\n",
              "      <td>January 23, 2017</td>\n",
              "      <td>0</td>\n",
              "    </tr>\n",
              "    <tr>\n",
              "      <th>4011</th>\n",
              "      <td>BUSTED: Trump Supporter Tries To Rig Election...</td>\n",
              "      <td>Donald Trump has repeatedly accused Democrats ...</td>\n",
              "      <td>News</td>\n",
              "      <td>October 28, 2016</td>\n",
              "      <td>0</td>\n",
              "    </tr>\n",
              "    <tr>\n",
              "      <th>17737</th>\n",
              "      <td>BREAKING: ONLY MLB Player To Kneel During Nati...</td>\n",
              "      <td>When Oakland Athletics catcher Bruce Maxwell t...</td>\n",
              "      <td>left-news</td>\n",
              "      <td>Oct 29, 2017</td>\n",
              "      <td>0</td>\n",
              "    </tr>\n",
              "    <tr>\n",
              "      <th>20709</th>\n",
              "      <td>OBAMA’S ECONOMIC LEGACY IN 9 Easy To Read Charts</td>\n",
              "      <td>Anyone who would look at these charts and stil...</td>\n",
              "      <td>left-news</td>\n",
              "      <td>Apr 19, 2016</td>\n",
              "      <td>0</td>\n",
              "    </tr>\n",
              "    <tr>\n",
              "      <th>...</th>\n",
              "      <td>...</td>\n",
              "      <td>...</td>\n",
              "      <td>...</td>\n",
              "      <td>...</td>\n",
              "      <td>...</td>\n",
              "    </tr>\n",
              "    <tr>\n",
              "      <th>15020</th>\n",
              "      <td>Last exit from Myanmar, Rohingya wait for week...</td>\n",
              "      <td>AH LEI THAN KYAW, Myanmar (Reuters) - Some 1,0...</td>\n",
              "      <td>worldnews</td>\n",
              "      <td>November 12, 2017</td>\n",
              "      <td>1</td>\n",
              "    </tr>\n",
              "    <tr>\n",
              "      <th>1494</th>\n",
              "      <td>Wealthy financiers could gain from Trump's pro...</td>\n",
              "      <td>WASHINGTON (Reuters) - High-income Wall Street...</td>\n",
              "      <td>politicsNews</td>\n",
              "      <td>September 28, 2017</td>\n",
              "      <td>1</td>\n",
              "    </tr>\n",
              "    <tr>\n",
              "      <th>5710</th>\n",
              "      <td>Tillerson calls counterparts from Mexico, Cana...</td>\n",
              "      <td>WASHINGTON (Reuters) - U.S. Secretary of State...</td>\n",
              "      <td>politicsNews</td>\n",
              "      <td>February 2, 2017</td>\n",
              "      <td>1</td>\n",
              "    </tr>\n",
              "    <tr>\n",
              "      <th>6963</th>\n",
              "      <td>Trump takes populist message to U.S. heartland...</td>\n",
              "      <td>CINCINNATI (Reuters) - President-elect Donald ...</td>\n",
              "      <td>politicsNews</td>\n",
              "      <td>December 1, 2016</td>\n",
              "      <td>1</td>\n",
              "    </tr>\n",
              "    <tr>\n",
              "      <th>7959</th>\n",
              "      <td>U.S. lawmakers may change September 11 law aft...</td>\n",
              "      <td>WASHINGTON (Reuters) - U.S. lawmakers expresse...</td>\n",
              "      <td>politicsNews</td>\n",
              "      <td>September 29, 2016</td>\n",
              "      <td>1</td>\n",
              "    </tr>\n",
              "  </tbody>\n",
              "</table>\n",
              "<p>44898 rows × 5 columns</p>\n",
              "</div>\n",
              "      <button class=\"colab-df-convert\" onclick=\"convertToInteractive('df-47af9eeb-a364-45be-ae13-619baf251167')\"\n",
              "              title=\"Convert this dataframe to an interactive table.\"\n",
              "              style=\"display:none;\">\n",
              "        \n",
              "  <svg xmlns=\"http://www.w3.org/2000/svg\" height=\"24px\"viewBox=\"0 0 24 24\"\n",
              "       width=\"24px\">\n",
              "    <path d=\"M0 0h24v24H0V0z\" fill=\"none\"/>\n",
              "    <path d=\"M18.56 5.44l.94 2.06.94-2.06 2.06-.94-2.06-.94-.94-2.06-.94 2.06-2.06.94zm-11 1L8.5 8.5l.94-2.06 2.06-.94-2.06-.94L8.5 2.5l-.94 2.06-2.06.94zm10 10l.94 2.06.94-2.06 2.06-.94-2.06-.94-.94-2.06-.94 2.06-2.06.94z\"/><path d=\"M17.41 7.96l-1.37-1.37c-.4-.4-.92-.59-1.43-.59-.52 0-1.04.2-1.43.59L10.3 9.45l-7.72 7.72c-.78.78-.78 2.05 0 2.83L4 21.41c.39.39.9.59 1.41.59.51 0 1.02-.2 1.41-.59l7.78-7.78 2.81-2.81c.8-.78.8-2.07 0-2.86zM5.41 20L4 18.59l7.72-7.72 1.47 1.35L5.41 20z\"/>\n",
              "  </svg>\n",
              "      </button>\n",
              "      \n",
              "  <style>\n",
              "    .colab-df-container {\n",
              "      display:flex;\n",
              "      flex-wrap:wrap;\n",
              "      gap: 12px;\n",
              "    }\n",
              "\n",
              "    .colab-df-convert {\n",
              "      background-color: #E8F0FE;\n",
              "      border: none;\n",
              "      border-radius: 50%;\n",
              "      cursor: pointer;\n",
              "      display: none;\n",
              "      fill: #1967D2;\n",
              "      height: 32px;\n",
              "      padding: 0 0 0 0;\n",
              "      width: 32px;\n",
              "    }\n",
              "\n",
              "    .colab-df-convert:hover {\n",
              "      background-color: #E2EBFA;\n",
              "      box-shadow: 0px 1px 2px rgba(60, 64, 67, 0.3), 0px 1px 3px 1px rgba(60, 64, 67, 0.15);\n",
              "      fill: #174EA6;\n",
              "    }\n",
              "\n",
              "    [theme=dark] .colab-df-convert {\n",
              "      background-color: #3B4455;\n",
              "      fill: #D2E3FC;\n",
              "    }\n",
              "\n",
              "    [theme=dark] .colab-df-convert:hover {\n",
              "      background-color: #434B5C;\n",
              "      box-shadow: 0px 1px 3px 1px rgba(0, 0, 0, 0.15);\n",
              "      filter: drop-shadow(0px 1px 2px rgba(0, 0, 0, 0.3));\n",
              "      fill: #FFFFFF;\n",
              "    }\n",
              "  </style>\n",
              "\n",
              "      <script>\n",
              "        const buttonEl =\n",
              "          document.querySelector('#df-47af9eeb-a364-45be-ae13-619baf251167 button.colab-df-convert');\n",
              "        buttonEl.style.display =\n",
              "          google.colab.kernel.accessAllowed ? 'block' : 'none';\n",
              "\n",
              "        async function convertToInteractive(key) {\n",
              "          const element = document.querySelector('#df-47af9eeb-a364-45be-ae13-619baf251167');\n",
              "          const dataTable =\n",
              "            await google.colab.kernel.invokeFunction('convertToInteractive',\n",
              "                                                     [key], {});\n",
              "          if (!dataTable) return;\n",
              "\n",
              "          const docLinkHtml = 'Like what you see? Visit the ' +\n",
              "            '<a target=\"_blank\" href=https://colab.research.google.com/notebooks/data_table.ipynb>data table notebook</a>'\n",
              "            + ' to learn more about interactive tables.';\n",
              "          element.innerHTML = '';\n",
              "          dataTable['output_type'] = 'display_data';\n",
              "          await google.colab.output.renderOutput(dataTable, element);\n",
              "          const docLink = document.createElement('div');\n",
              "          docLink.innerHTML = docLinkHtml;\n",
              "          element.appendChild(docLink);\n",
              "        }\n",
              "      </script>\n",
              "    </div>\n",
              "  </div>\n",
              "  "
            ],
            "text/plain": [
              "                                                   title  \\\n",
              "2975   Lawmakers unveil bill to keep insurance expert...   \n",
              "2883    GOP Lawmaker Deactivates Twitter Account Afte...   \n",
              "4011    BUSTED: Trump Supporter Tries To Rig Election...   \n",
              "17737  BREAKING: ONLY MLB Player To Kneel During Nati...   \n",
              "20709   OBAMA’S ECONOMIC LEGACY IN 9 Easy To Read Charts   \n",
              "...                                                  ...   \n",
              "15020  Last exit from Myanmar, Rohingya wait for week...   \n",
              "1494   Wealthy financiers could gain from Trump's pro...   \n",
              "5710   Tillerson calls counterparts from Mexico, Cana...   \n",
              "6963   Trump takes populist message to U.S. heartland...   \n",
              "7959   U.S. lawmakers may change September 11 law aft...   \n",
              "\n",
              "                                                    text       subject  \\\n",
              "2975   WASHINGTON (Reuters) - The U.S. Senate Banking...  politicsNews   \n",
              "2883   A Nebraska State Senator was busted previously...          News   \n",
              "4011   Donald Trump has repeatedly accused Democrats ...          News   \n",
              "17737  When Oakland Athletics catcher Bruce Maxwell t...     left-news   \n",
              "20709  Anyone who would look at these charts and stil...     left-news   \n",
              "...                                                  ...           ...   \n",
              "15020  AH LEI THAN KYAW, Myanmar (Reuters) - Some 1,0...     worldnews   \n",
              "1494   WASHINGTON (Reuters) - High-income Wall Street...  politicsNews   \n",
              "5710   WASHINGTON (Reuters) - U.S. Secretary of State...  politicsNews   \n",
              "6963   CINCINNATI (Reuters) - President-elect Donald ...  politicsNews   \n",
              "7959   WASHINGTON (Reuters) - U.S. lawmakers expresse...  politicsNews   \n",
              "\n",
              "                      date  label  \n",
              "2975        June 28, 2017       1  \n",
              "2883      January 23, 2017      0  \n",
              "4011      October 28, 2016      0  \n",
              "17737         Oct 29, 2017      0  \n",
              "20709         Apr 19, 2016      0  \n",
              "...                    ...    ...  \n",
              "15020   November 12, 2017       1  \n",
              "1494   September 28, 2017       1  \n",
              "5710     February 2, 2017       1  \n",
              "6963     December 1, 2016       1  \n",
              "7959   September 29, 2016       1  \n",
              "\n",
              "[44898 rows x 5 columns]"
            ]
          },
          "execution_count": 6,
          "metadata": {},
          "output_type": "execute_result"
        }
      ],
      "source": [
        "# Load the dataset\n",
        "fake_news = pd.read_csv('Fake.csv')\n",
        "real_news = pd.read_csv('True.csv')\n",
        "\n",
        "# Combine the datasets and shuffle\n",
        "fake_news['label'] = 0    # adds a column\n",
        "real_news['label'] = 1\n",
        "\n",
        "data = pd.concat([fake_news, real_news]).sample(frac=1.0)   # frac 1.0 => returns all the data (rows)\n",
        "\n",
        "# Write the combined data to a new CSV file\n",
        "data.to_csv('Combined.csv', index=False)\n",
        "\n",
        "print(\"Data loaded successfully and combined CSV generated!\")\n",
        "\n",
        "data"
      ]
    },
    {
      "cell_type": "markdown",
      "metadata": {
        "id": "Fkv-BogQYK1S"
      },
      "source": [
        "# Preprocess Function"
      ]
    },
    {
      "cell_type": "code",
      "execution_count": null,
      "metadata": {
        "id": "K_hH1GM2GkAK"
      },
      "outputs": [],
      "source": [
        "import re\n",
        "from nltk.stem import PorterStemmer\n",
        "\n",
        "stemmer = PorterStemmer()\n",
        "\n",
        "def preprocess_text(text):\n",
        "    # Replace characters that are not between a to z or A to Z with whitespace\n",
        "    text = re.sub('[^a-zA-Z]', ' ', text)\n",
        "\n",
        "    # Convert all characters into lowercase\n",
        "    text = text.lower()\n",
        "\n",
        "    # Remove inflectional morphemes like \"ed\", \"est\", \"s\", and \"ing\" from their token stem\n",
        "    text = [stemmer.stem(word) for word in text.split()]\n",
        "\n",
        "    # Join the processed words back into a single string\n",
        "    text = ' '.join(text)\n",
        "\n",
        "    return text\n"
      ]
    },
    {
      "cell_type": "markdown",
      "metadata": {
        "id": "2ISfFCMaX59L"
      },
      "source": [
        "# Training the Model\n"
      ]
    },
    {
      "cell_type": "code",
      "execution_count": null,
      "metadata": {
        "colab": {
          "base_uri": "https://localhost:8080/"
        },
        "id": "loZ3t2bONI9d",
        "outputId": "561d3879-4b29-4c14-beba-5eafd812611d"
      },
      "outputs": [
        {
          "name": "stdout",
          "output_type": "stream",
          "text": [
            "Using device: /device:GPU:0\n",
            "\n",
            "Preprocessing data...\n",
            "\n",
            "Splitting Data...\n",
            "\n",
            "Tokenizing and Converting...\n"
          ]
        },
        {
          "name": "stderr",
          "output_type": "stream",
          "text": [
            "All model checkpoint layers were used when initializing TFBertForSequenceClassification.\n",
            "\n",
            "Some layers of TFBertForSequenceClassification were not initialized from the model checkpoint at bert-base-uncased and are newly initialized: ['classifier']\n",
            "You should probably TRAIN this model on a down-stream task to be able to use it for predictions and inference.\n"
          ]
        },
        {
          "name": "stdout",
          "output_type": "stream",
          "text": [
            "\n",
            "Compiling Model...\n",
            "\n",
            "Training Model...\n",
            "Epoch 1/4\n",
            "449/449 [==============================] - 324s 586ms/step - loss: 0.1729 - accuracy: 0.9346 - val_loss: 0.1158 - val_accuracy: 0.9613\n",
            "Epoch 2/4\n",
            "449/449 [==============================] - 265s 590ms/step - loss: 0.0713 - accuracy: 0.9749 - val_loss: 0.0845 - val_accuracy: 0.9697\n",
            "Epoch 3/4\n",
            "449/449 [==============================] - 267s 595ms/step - loss: 0.0421 - accuracy: 0.9857 - val_loss: 0.1029 - val_accuracy: 0.9691\n",
            "Epoch 4/4\n",
            "449/449 [==============================] - 264s 589ms/step - loss: 0.0226 - accuracy: 0.9922 - val_loss: 0.1218 - val_accuracy: 0.9681\n",
            "\n",
            "Saving Model...\n"
          ]
        }
      ],
      "source": [
        "import tensorflow as tf\n",
        "from transformers import BertTokenizer, TFBertForSequenceClassification\n",
        "\n",
        "# Check if GPU is available\n",
        "if tf.test.is_gpu_available():\n",
        "    device_name = tf.test.gpu_device_name()\n",
        "else:\n",
        "    device_name = 'CPU:0'\n",
        "print('Using device:', device_name)\n",
        "\n",
        "# Load the dataset\n",
        "data = pd.read_csv('Combined.csv')\n",
        "\n",
        "# Preprocess the text using the preprocessing function\n",
        "print(\"\\nPreprocessing data...\")\n",
        "\n",
        "data['title_preprocessed'] = data['title'].apply(preprocess_text)\n",
        "\n",
        "# Split the dataset into train, validation, and test sets\n",
        "train_ratio = 0.64\n",
        "val_ratio = 0.16\n",
        "test_ratio = 0.2\n",
        "\n",
        "print(\"\\nSplitting Data...\")\n",
        "\n",
        "train_data = data.sample(frac=train_ratio, random_state=42)\n",
        "remaining_data = data.drop(train_data.index)\n",
        "\n",
        "val_data = remaining_data.sample(frac=val_ratio/(val_ratio+test_ratio), random_state=42)\n",
        "test_data = remaining_data.drop(val_data.index)\n",
        "\n",
        "# Initialize BERT tokenizer\n",
        "tokenizer = BertTokenizer.from_pretrained('bert-base-uncased')\n",
        "\n",
        "# Tokenize the titles and convert them into BERT input tensors\n",
        "print(\"\\nTokenizing and Converting...\")\n",
        "\n",
        "train_inputs = tokenizer(list(train_data['title_preprocessed']), truncation=True, padding='max_length', max_length=42, return_tensors='tf')\n",
        "val_inputs = tokenizer(list(val_data['title_preprocessed']), truncation=True, padding='max_length', max_length=42, return_tensors='tf')\n",
        "test_inputs = tokenizer(list(test_data['title_preprocessed']), truncation=True, padding='max_length', max_length=42, return_tensors='tf')\n",
        "\n",
        "# Convert the labels into TensorFlow tensors\n",
        "train_labels = tf.convert_to_tensor(list(train_data['label']))\n",
        "val_labels = tf.convert_to_tensor(list(val_data['label']))\n",
        "test_labels = tf.convert_to_tensor(list(test_data['label']))\n",
        "\n",
        "# Extract token tensors, segment tensors, and mask tensors from the BERT inputs\n",
        "train_token_tensors = train_inputs['input_ids']\n",
        "train_segment_tensors = train_inputs['token_type_ids']\n",
        "train_mask_tensors = train_inputs['attention_mask']\n",
        "\n",
        "val_token_tensors = val_inputs['input_ids']\n",
        "val_segment_tensors = val_inputs['token_type_ids']\n",
        "val_mask_tensors = val_inputs['attention_mask']\n",
        "\n",
        "test_token_tensors = test_inputs['input_ids']\n",
        "test_segment_tensors = test_inputs['token_type_ids']\n",
        "test_mask_tensors = test_inputs['attention_mask']\n",
        "\n",
        "# Build the BERT model\n",
        "model = TFBertForSequenceClassification.from_pretrained('bert-base-uncased', num_labels=2)\n",
        "\n",
        "# Compile the model\n",
        "print(\"\\nCompiling Model...\")\n",
        "\n",
        "optimizer = tf.keras.optimizers.Adam(learning_rate=2e-5)\n",
        "loss = tf.keras.losses.SparseCategoricalCrossentropy(from_logits=True)\n",
        "metric = tf.keras.metrics.SparseCategoricalAccuracy('accuracy')\n",
        "\n",
        "model.compile(optimizer=optimizer, loss=loss, metrics=[metric])\n",
        "\n",
        "# Train the BERT model\n",
        "print(\"\\nTraining Model...\")\n",
        "\n",
        "batch_size = 64\n",
        "num_epochs = 4\n",
        "\n",
        "history = model.fit([train_token_tensors, train_segment_tensors, train_mask_tensors], train_labels, batch_size=batch_size, epochs=num_epochs, validation_data=([val_token_tensors, val_segment_tensors, val_mask_tensors], val_labels))\n",
        "\n",
        "# Save the trained model\n",
        "print(\"\\nSaving Model...\")\n",
        "\n",
        "model.save_pretrained('/content/bertv3_model')\n",
        "\n"
      ]
    },
    {
      "cell_type": "markdown",
      "metadata": {
        "id": "bUlYf6JWXyKQ"
      },
      "source": [
        "# Validation"
      ]
    },
    {
      "cell_type": "code",
      "execution_count": null,
      "metadata": {
        "colab": {
          "base_uri": "https://localhost:8080/"
        },
        "id": "FX3mw-GCNpuY",
        "outputId": "e248cd1a-dab4-4d3f-a7df-dde239bc2c51"
      },
      "outputs": [
        {
          "name": "stdout",
          "output_type": "stream",
          "text": [
            "141/141 [==============================] - 26s 186ms/step - loss: 0.1080 - accuracy: 0.9700\n",
            "Test loss: 10.803%\n",
            "Test accuracy: 97.004%\n"
          ]
        }
      ],
      "source": [
        "# Evaluate the model on the test set\n",
        "loss, accuracy = model.evaluate([test_token_tensors, test_segment_tensors, test_mask_tensors], test_labels, batch_size=batch_size)\n",
        "print(f'Test loss: {loss * 100:.3f}%')\n",
        "print(f'Test accuracy: {accuracy * 100:.3f}%')\n",
        "\n"
      ]
    },
    {
      "cell_type": "markdown",
      "metadata": {
        "id": "0CpwrDHrX1FF"
      },
      "source": [
        "# Using the Model to predict"
      ]
    },
    {
      "cell_type": "code",
      "execution_count": null,
      "metadata": {
        "colab": {
          "base_uri": "https://localhost:8080/"
        },
        "id": "B9l9GG-r5VHZ",
        "outputId": "9ec2c470-7f07-4f0e-b0d9-cbec5063f73c"
      },
      "outputs": [
        {
          "name": "stderr",
          "output_type": "stream",
          "text": [
            "Some layers from the model checkpoint at /content/bertv3_model were not used when initializing TFBertForSequenceClassification: ['dropout_149']\n",
            "- This IS expected if you are initializing TFBertForSequenceClassification from the checkpoint of a model trained on another task or with another architecture (e.g. initializing a BertForSequenceClassification model from a BertForPreTraining model).\n",
            "- This IS NOT expected if you are initializing TFBertForSequenceClassification from the checkpoint of a model that you expect to be exactly identical (initializing a BertForSequenceClassification model from a BertForSequenceClassification model).\n",
            "All the layers of TFBertForSequenceClassification were initialized from the model checkpoint at /content/bertv3_model.\n",
            "If your task is similar to the task the model of the checkpoint was trained on, you can already use TFBertForSequenceClassification for predictions without further training.\n"
          ]
        },
        {
          "name": "stdout",
          "output_type": "stream",
          "text": [
            "\n",
            "\n",
            "Enter News Title: USA is bankrupted\n",
            "Preprocessed Text: usa is bankrupt\n",
            "1/1 [==============================] - 4s 4s/step\n",
            "\n",
            "Fake news\n",
            "\n",
            "Probability of being fake: 76.43%\n",
            "Probability of being real: 23.57%\n"
          ]
        }
      ],
      "source": [
        "from transformers import BertTokenizer, TFBertForSequenceClassification\n",
        "import tensorflow as tf\n",
        "\n",
        "# Load the saved model\n",
        "model = TFBertForSequenceClassification.from_pretrained('/content/bertv3_model')\n",
        "\n",
        "# Initialize the tokenizer\n",
        "tokenizer = BertTokenizer.from_pretrained('bert-base-uncased')\n",
        "\n",
        "# Example input text\n",
        "input_text = input(\"\\n\\nEnter News Title: \")\n",
        "\n",
        "# Preprocess the input text\n",
        "preprocessed_text = preprocess_text(input_text)\n",
        "\n",
        "print(\"Preprocessed Text:\", preprocessed_text)\n",
        "\n",
        "# Tokenize the preprocessed text\n",
        "inputs = tokenizer(preprocessed_text, truncation=True, padding='max_length', max_length=42, return_tensors='tf')\n",
        "\n",
        "# Extract input tensors\n",
        "token_tensors = inputs['input_ids']\n",
        "segment_tensors = inputs['token_type_ids']\n",
        "mask_tensors = inputs['attention_mask']\n",
        "\n",
        "# Make predictions\n",
        "predictions = model.predict([token_tensors, segment_tensors, mask_tensors])\n",
        "logits = predictions.logits[0]\n",
        "probabilities = tf.nn.softmax(logits)\n",
        "predicted_label = tf.argmax(probabilities)\n",
        "\n",
        "# Print the predicted label and probabilities\n",
        "if predicted_label == 0:\n",
        "    print(\"\\n*-*-Fake News-*-*\")\n",
        "else:\n",
        "    print(\"\\n*-*-Real News-*-*\")\n",
        "\n",
        "print(\"\\nProbability of being fake: {:.2%}\".format(probabilities[0]))\n",
        "print(\"Probability of being real: {:.2%}\".format(probabilities[1]))\n"
      ]
    }
  ],
  "metadata": {
    "colab": {
      "gpuType": "T4",
      "provenance": []
    },
    "kernelspec": {
      "display_name": "Python 3",
      "name": "python3"
    },
    "language_info": {
      "name": "python"
    }
  },
  "nbformat": 4,
  "nbformat_minor": 0
}
